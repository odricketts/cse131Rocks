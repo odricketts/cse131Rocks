{
 "cells": [
  {
   "cell_type": "code",
   "execution_count": 46,
   "id": "9315a571",
   "metadata": {},
   "outputs": [],
   "source": [
    "import pandas as pd\n",
    "\n",
    "def mergeCsv(stockName):\n",
    "    stockPrice = pd.read_csv(f'growthStocks/priceData/{stockName}Price.csv')\n",
    "    stockTwitter = pd.read_csv(f'growthStocks/twitterData/{stockName}Twitter.csv')\n",
    "    \n",
    "    # uncomment for test data only\n",
    "    #stockTwitter = stockTwitter[pd.to_datetime(stockTwitter['Date']) >= '2022-03-10']\n",
    "    stock = stockTwitter.merge(stockPrice, how='left', on='Date')\n",
    "    stock.to_csv(f'growthStocks/{stockName}.csv', index=False)"
   ]
  },
  {
   "cell_type": "code",
   "execution_count": 47,
   "id": "f20aaa1e",
   "metadata": {},
   "outputs": [],
   "source": [
    "mergeCsv('qualtrics')"
   ]
  },
  {
   "cell_type": "code",
   "execution_count": null,
   "id": "80ce0876",
   "metadata": {},
   "outputs": [],
   "source": []
  }
 ],
 "metadata": {
  "kernelspec": {
   "display_name": "Python 3.9.7 ('venv')",
   "language": "python",
   "name": "python397jvsc74a57bd0fd7fe644b4ed1ccedb9c8aef860e5a89b227fe88b12305e0cf0cda265fe85ad0"
  },
  "language_info": {
   "codemirror_mode": {
    "name": "ipython",
    "version": 3
   },
   "file_extension": ".py",
   "mimetype": "text/x-python",
   "name": "python",
   "nbconvert_exporter": "python",
   "pygments_lexer": "ipython3",
   "version": "3.9.7"
  }
 },
 "nbformat": 4,
 "nbformat_minor": 5
}
